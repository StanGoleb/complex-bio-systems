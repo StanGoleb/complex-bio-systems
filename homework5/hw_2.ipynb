{
 "cells": [
  {
   "cell_type": "code",
   "execution_count": 1,
   "metadata": {
    "id": "vUlnCUZw_uT4"
   },
   "outputs": [],
   "source": [
    "import numpy as np\n",
    "import torch\n",
    "import torch.nn as nn\n",
    "import torch.optim as optim\n",
    "\n",
    "# PyTorch TensorBoard support\n",
    "# from torch.utils.tensorboard import SummaryWriter\n",
    "# import torchvision\n",
    "# import torchvision.transforms as transforms\n",
    "\n",
    "from datetime import datetime\n",
    "\n",
    "import torchvision\n",
    "import torchvision.transforms as transforms\n",
    "\n",
    "from torchvision.datasets import FashionMNIST\n",
    "import matplotlib.pyplot as plt\n",
    "%matplotlib inline\n",
    "\n",
    "from torch.utils.data import random_split\n",
    "from torch.utils.data import DataLoader\n",
    "import torch.nn.functional as F\n",
    "\n",
    "from PIL import Image\n",
    "#import torchvision.transforms as T"
   ]
  },
  {
   "cell_type": "code",
   "execution_count": 2,
   "metadata": {
    "colab": {
     "base_uri": "https://localhost:8080/"
    },
    "executionInfo": {
     "elapsed": 4,
     "status": "ok",
     "timestamp": 1685344285461,
     "user": {
      "displayName": "neo linski",
      "userId": "06979791458653108541"
     },
     "user_tz": -120
    },
    "id": "aunCiKGL_x70",
    "outputId": "f6b01ffe-0ee0-4803-afb1-ab9300c121fc"
   },
   "outputs": [
    {
     "name": "stdout",
     "output_type": "stream",
     "text": [
      "Dataset FashionMNIST\n",
      "    Number of datapoints: 60000\n",
      "    Root location: data/\n",
      "    Split: Train\n",
      "    StandardTransform\n",
      "Transform: ToTensor()\n"
     ]
    }
   ],
   "source": [
    "# load the dataset\n",
    "fmnist_dataset = FashionMNIST(root = 'data/', download=True, train = True, transform = transforms.ToTensor())\n",
    "print(fmnist_dataset)"
   ]
  },
  {
   "cell_type": "markdown",
   "metadata": {
    "id": "0KrRau1CUN_i"
   },
   "source": [
    "## Training and validation data"
   ]
  },
  {
   "cell_type": "code",
   "execution_count": 6,
   "metadata": {
    "colab": {
     "base_uri": "https://localhost:8080/"
    },
    "executionInfo": {
     "elapsed": 3,
     "status": "ok",
     "timestamp": 1685345056838,
     "user": {
      "displayName": "neo linski",
      "userId": "06979791458653108541"
     },
     "user_tz": -120
    },
    "id": "GiLmv_fiTqHk",
    "outputId": "a82dccc6-d432-4970-c0d6-815be7743e0c"
   },
   "outputs": [
    {
     "name": "stdout",
     "output_type": "stream",
     "text": [
      "length of Train Datasets:  50000\n",
      "length of Validation Datasets:  10000\n"
     ]
    }
   ],
   "source": [
    "train_data, validation_data = random_split(fmnist_dataset, [50000, 10000])\n",
    "## Print the length of train and validation datasets\n",
    "print(\"length of Train Datasets: \", len(train_data))\n",
    "print(\"length of Validation Datasets: \", len(validation_data))\n",
    "\n",
    "batch_size = 128\n",
    "train_loader = DataLoader(train_data, batch_size, shuffle = True)\n",
    "val_loader = DataLoader(validation_data, batch_size, shuffle = False)\n",
    "## MNIST data from pytorch already provides held-out test set!"
   ]
  },
  {
   "cell_type": "markdown",
   "metadata": {
    "id": "avn25m7yVyWd"
   },
   "source": [
    "# Convolutional Neural Network (CNN)"
   ]
  },
  {
   "cell_type": "code",
   "execution_count": 8,
   "metadata": {
    "colab": {
     "base_uri": "https://localhost:8080/"
    },
    "executionInfo": {
     "elapsed": 344,
     "status": "ok",
     "timestamp": 1685346746231,
     "user": {
      "displayName": "neo linski",
      "userId": "06979791458653108541"
     },
     "user_tz": -120
    },
    "id": "0EjLVWe_I9Eq",
    "outputId": "de305e02-59b7-48f1-fa94-b80308757229"
   },
   "outputs": [],
   "source": [
    "class CNN_optim(nn.Module):\n",
    "    def __init__(self, conv_channels, kernel_size, fc_size):\n",
    "        super(CNN_optim, self).__init__()\n",
    "        self.conv1 = nn.Sequential(\n",
    "            nn.Conv2d(\n",
    "                in_channels=1,\n",
    "                out_channels=conv_channels[0],\n",
    "                kernel_size=kernel_size,\n",
    "                stride=1,\n",
    "                padding=kernel_size //2,\n",
    "            ),\n",
    "            nn.ReLU(),\n",
    "            nn.MaxPool2d(kernel_size=2),\n",
    "        )\n",
    "        self.conv2 = nn.Sequential(\n",
    "            nn.Conv2d(\n",
    "                in_channels=conv_channels[0],\n",
    "                out_channels=conv_channels[1],\n",
    "                kernel_size=kernel_size,\n",
    "                stride=1,\n",
    "                padding=kernel_size // 2,\n",
    "            ),\n",
    "            nn.ReLU(),\n",
    "            nn.MaxPool2d(2),\n",
    "        )\n",
    "\n",
    "        self.fully_connected = nn.Sequential(\n",
    "            nn.Linear(conv_channels[1] * 7 * 7, fc_size),\n",
    "            nn.ReLU(),\n",
    "            nn.Linear(fc_size, 10),\n",
    "        )\n",
    "    def forward(self, x):\n",
    "        x = self.conv1(x)\n",
    "        x = self.conv2(x)\n",
    "        x = x.view(x.size(0), -1)\n",
    "        output = self.fully_connected(x)\n",
    "        return output, x"
   ]
  },
  {
   "cell_type": "code",
   "execution_count": null,
   "metadata": {},
   "outputs": [
    {
     "name": "stdout",
     "output_type": "stream",
     "text": [
      "Testing {'conv_channels': [8, 16], 'kernel_size': 3, 'fc_size': 64}\n",
      "Accuracy: 0.8838\n",
      "Testing {'conv_channels': [16, 32], 'kernel_size': 5, 'fc_size': 128}\n",
      "Accuracy: 0.8893\n",
      "Testing {'conv_channels': [32, 64], 'kernel_size': 3, 'fc_size': 256}\n",
      "Accuracy: 0.8988\n",
      "Testing {'conv_channels': [16, 32, 64], 'kernel_size': 3, 'fc_size': 256}\n",
      "Accuracy: 0.8931\n",
      "Testing {'conv_channels': [8, 16, 32], 'kernel_size': 3, 'fc_size': 128}\n",
      "Accuracy: 0.8934\n",
      "Testing {'conv_channels': [16, 32, 64, 128], 'kernel_size': 3, 'fc_size': 256}\n",
      "Accuracy: 0.8919\n",
      "Testing {'conv_channels': [32, 64, 128], 'kernel_size': 5, 'fc_size': 512}\n",
      "Accuracy: 0.8793\n",
      "Testing {'conv_channels': [64, 128], 'kernel_size': 3, 'fc_size': 256}\n",
      "Accuracy: 0.8819\n",
      "Testing {'conv_channels': [16, 64, 128], 'kernel_size': 3, 'fc_size': 128}\n",
      "Accuracy: 0.9012\n",
      "Testing {'conv_channels': [32, 64, 128, 256], 'kernel_size': 3, 'fc_size': 512}\n",
      "Accuracy: 0.8843\n"
     ]
    }
   ],
   "source": [
    "test_dataset = FashionMNIST(root='data/', train=False, transform=transforms.ToTensor())\n",
    "test_loader = DataLoader(test_dataset, batch_size=256, shuffle=False)\n",
    "\n",
    "test_results = []\n",
    "\n",
    "architectures = [\n",
    "    {'conv_channels': [16, 32], 'kernel_size': 5, 'fc_size': 128},\n",
    "    {'conv_channels': [32, 64], 'kernel_size': 3, 'fc_size': 256},\n",
    "    {'conv_channels': [16, 32, 64], 'kernel_size': 3, 'fc_size': 256},\n",
    "    {'conv_channels': [8, 16, 32], 'kernel_size': 3, 'fc_size': 128},\n",
    "    {'conv_channels': [16, 32, 64, 128], 'kernel_size': 3, 'fc_size': 256},\n",
    "    {'conv_channels': [16, 64, 128], 'kernel_size': 3, 'fc_size': 128},\n",
    "    {'conv_channels': [32, 64, 128, 256], 'kernel_size': 3, 'fc_size': 512},\n",
    "]\n",
    "\n",
    "for arch in architectures:\n",
    "    print(f\"Testing {arch}\")\n",
    "    model = CNN_optim(arch['conv_channels'], arch['kernel_size'], arch['fc_size'])\n",
    "\n",
    "    optimizer = optim.Adam(model.parameters(), lr=0.01)\n",
    "    loss_fn = nn.CrossEntropyLoss()\n",
    "\n",
    "    model.train()\n",
    "    for epoch in range(5):\n",
    "        for xb, yb in train_loader:\n",
    "            out, _ = model(xb)\n",
    "            loss = loss_fn(out, yb)\n",
    "            optimizer.zero_grad()\n",
    "            loss.backward()\n",
    "            optimizer.step()\n",
    "\n",
    "    model.eval()\n",
    "    correct, total = 0, 0\n",
    "    with torch.no_grad():\n",
    "        for xb, yb in test_loader:\n",
    "            out, _ = model(xb)\n",
    "            preds = out.argmax(1)\n",
    "            correct += (preds == yb).sum().item()\n",
    "            total += yb.size(0)\n",
    "    acc = correct / total\n",
    "    test_results.append({'config': arch, 'accuracy': acc})\n",
    "    print(f\"Accuracy: {acc:.4f}\")\n"
   ]
  },
  {
   "cell_type": "code",
   "execution_count": 17,
   "metadata": {},
   "outputs": [
    {
     "name": "stdout",
     "output_type": "stream",
     "text": [
      "Best architecture: {'conv_channels': [16, 64, 128], 'kernel_size': 3, 'fc_size': 128}\n",
      "Test accuracy: 0.9012\n"
     ]
    }
   ],
   "source": [
    "best = max(test_results, key=lambda x: x['accuracy'])\n",
    "print(\"Best architecture:\", best['config'])\n",
    "print(\"Test accuracy:\", best['accuracy'])\n"
   ]
  }
 ],
 "metadata": {
  "colab": {
   "provenance": [
    {
     "file_id": "1w3Q2lNQDPlYnxx53rGpAaoGswP_sNeVy",
     "timestamp": 1682690722970
    },
    {
     "file_id": "1wh-T2PsCrd3749QxJ6O4Ede1mWFUhIW2",
     "timestamp": 1682520545841
    }
   ]
  },
  "kernelspec": {
   "display_name": ".venv",
   "language": "python",
   "name": "python3"
  },
  "language_info": {
   "codemirror_mode": {
    "name": "ipython",
    "version": 3
   },
   "file_extension": ".py",
   "mimetype": "text/x-python",
   "name": "python",
   "nbconvert_exporter": "python",
   "pygments_lexer": "ipython3",
   "version": "3.12.3"
  }
 },
 "nbformat": 4,
 "nbformat_minor": 0
}
